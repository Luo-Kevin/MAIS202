{
 "cells": [
  {
   "cell_type": "code",
   "execution_count": 16,
   "metadata": {},
   "outputs": [],
   "source": [
    "# ! conda install -c apple tensorflow-deps\n",
    "# ! pip install tensorflow-macos"
   ]
  },
  {
   "cell_type": "code",
   "execution_count": 17,
   "metadata": {},
   "outputs": [],
   "source": [
    "import numpy as np\n",
    "import tensorflow as tf"
   ]
  },
  {
   "cell_type": "code",
   "execution_count": 18,
   "metadata": {},
   "outputs": [],
   "source": [
    "with open('./data/preprocessed/X_train_ids.npy', 'rb') as f:\n",
    "    X_train_ids = np.load(f, allow_pickle=True)\n",
    "with open('./data/preprocessed/X_train_masks', 'rb') as f:\n",
    "    X_train_masks = np.load(f, allow_pickle=True)\n",
    "with open('./data/preprocessed/y_train_encoded.npy', 'rb') as f:\n",
    "    y_train_encoded = np.load(f, allow_pickle=True)\n",
    "\n"
   ]
  },
  {
   "cell_type": "code",
   "execution_count": 19,
   "metadata": {},
   "outputs": [
    {
     "data": {
      "text/plain": [
       "<TakeDataset element_spec=(TensorSpec(shape=(512,), dtype=tf.int64, name=None), TensorSpec(shape=(512,), dtype=tf.int64, name=None), TensorSpec(shape=(5,), dtype=tf.float64, name=None))>"
      ]
     },
     "execution_count": 19,
     "metadata": {},
     "output_type": "execute_result"
    }
   ],
   "source": [
    "dataset = tf.data.Dataset.from_tensor_slices((X_train_ids, X_train_masks, y_train_encoded)) # Create a dataset from the data\n",
    "dataset.take(1)\n"
   ]
  },
  {
   "cell_type": "code",
   "execution_count": 20,
   "metadata": {},
   "outputs": [],
   "source": [
    "#mapping features to labels\n",
    "#{(ids, masks): labels} since the model will only take 2 params -> input and output\n",
    "def map_features(input_ids, mask, label):\n",
    "    return {\n",
    "        \"input_ids\": input_ids, \"attention_mask\": mask, \"label\": label \n",
    "    }"
   ]
  },
  {
   "cell_type": "code",
   "execution_count": 21,
   "metadata": {},
   "outputs": [
    {
     "data": {
      "text/plain": [
       "<TakeDataset element_spec={'input_ids': TensorSpec(shape=(512,), dtype=tf.int64, name=None), 'attention_mask': TensorSpec(shape=(512,), dtype=tf.int64, name=None), 'label': TensorSpec(shape=(5,), dtype=tf.float64, name=None)}>"
      ]
     },
     "execution_count": 21,
     "metadata": {},
     "output_type": "execute_result"
    }
   ],
   "source": [
    "dataset = dataset.map(map_features)\n",
    "dataset.take(1)"
   ]
  }
 ],
 "metadata": {
  "kernelspec": {
   "display_name": "testenv",
   "language": "python",
   "name": "python3"
  },
  "language_info": {
   "codemirror_mode": {
    "name": "ipython",
    "version": 3
   },
   "file_extension": ".py",
   "mimetype": "text/x-python",
   "name": "python",
   "nbconvert_exporter": "python",
   "pygments_lexer": "ipython3",
   "version": "3.10.9"
  },
  "orig_nbformat": 4,
  "vscode": {
   "interpreter": {
    "hash": "509d82cbc970f284de4fd43a4db806627d357ffd1d21452872af17ba8ffd98fc"
   }
  }
 },
 "nbformat": 4,
 "nbformat_minor": 2
}
