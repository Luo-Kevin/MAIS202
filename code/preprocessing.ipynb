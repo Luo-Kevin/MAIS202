{
 "cells": [
  {
   "cell_type": "code",
   "execution_count": 20,
   "metadata": {},
   "outputs": [
    {
     "name": "stdout",
     "output_type": "stream",
     "text": [
      "Collecting scikit-learn\n",
      "  Downloading scikit_learn-1.2.1-cp310-cp310-macosx_10_9_x86_64.whl (9.1 MB)\n",
      "\u001b[2K     \u001b[90m━━━━━━━━━━━━━━━━━━━━━━━━━━━━━━━━━━━━━━━━\u001b[0m \u001b[32m9.1/9.1 MB\u001b[0m \u001b[31m12.3 MB/s\u001b[0m eta \u001b[36m0:00:00\u001b[0m00:01\u001b[0m00:01\u001b[0m\n",
      "\u001b[?25hCollecting joblib>=1.1.1\n",
      "  Downloading joblib-1.2.0-py3-none-any.whl (297 kB)\n",
      "\u001b[2K     \u001b[90m━━━━━━━━━━━━━━━━━━━━━━━━━━━━━━━━━━━━━━\u001b[0m \u001b[32m298.0/298.0 kB\u001b[0m \u001b[31m12.0 MB/s\u001b[0m eta \u001b[36m0:00:00\u001b[0m\n",
      "\u001b[?25hCollecting threadpoolctl>=2.0.0\n",
      "  Downloading threadpoolctl-3.1.0-py3-none-any.whl (14 kB)\n",
      "Requirement already satisfied: scipy>=1.3.2 in /Users/kevinluo/opt/anaconda3/envs/testenv/lib/python3.10/site-packages (from scikit-learn) (1.10.1)\n",
      "Requirement already satisfied: numpy>=1.17.3 in /Users/kevinluo/opt/anaconda3/envs/testenv/lib/python3.10/site-packages (from scikit-learn) (1.24.2)\n",
      "Installing collected packages: threadpoolctl, joblib, scikit-learn\n",
      "Successfully installed joblib-1.2.0 scikit-learn-1.2.1 threadpoolctl-3.1.0\n"
     ]
    }
   ],
   "source": [
    "! pip install -U scikit-learn"
   ]
  },
  {
   "cell_type": "code",
   "execution_count": 21,
   "metadata": {},
   "outputs": [],
   "source": [
    "import pandas as pd\n",
    "import numpy as np\n",
    "from transformers import BertTokenizer\n",
    "from sklearn.preprocessing import OneHotEncoder"
   ]
  },
  {
   "cell_type": "code",
   "execution_count": 4,
   "metadata": {},
   "outputs": [],
   "source": [
    "#loading data in pandas dataframe\n",
    "\n",
    "data_train = pd.read_json('./data/train.jsonl', lines=True)\n",
    "data_valid = pd.read_json('./data/dev.jsonl', lines=True)\n",
    "data_test = pd.read_json('./data/test.jsonl', lines=True)"
   ]
  },
  {
   "cell_type": "code",
   "execution_count": 5,
   "metadata": {},
   "outputs": [
    {
     "data": {
      "text/html": [
       "<div>\n",
       "<style scoped>\n",
       "    .dataframe tbody tr th:only-of-type {\n",
       "        vertical-align: middle;\n",
       "    }\n",
       "\n",
       "    .dataframe tbody tr th {\n",
       "        vertical-align: top;\n",
       "    }\n",
       "\n",
       "    .dataframe thead th {\n",
       "        text-align: right;\n",
       "    }\n",
       "</style>\n",
       "<table border=\"1\" class=\"dataframe\">\n",
       "  <thead>\n",
       "    <tr style=\"text-align: right;\">\n",
       "      <th></th>\n",
       "      <th>text</th>\n",
       "      <th>label</th>\n",
       "      <th>label_text</th>\n",
       "    </tr>\n",
       "  </thead>\n",
       "  <tbody>\n",
       "    <tr>\n",
       "      <th>0</th>\n",
       "      <td>a stirring , funny and finally transporting re...</td>\n",
       "      <td>4</td>\n",
       "      <td>very positive</td>\n",
       "    </tr>\n",
       "    <tr>\n",
       "      <th>1</th>\n",
       "      <td>apparently reassembled from the cutting-room f...</td>\n",
       "      <td>1</td>\n",
       "      <td>negative</td>\n",
       "    </tr>\n",
       "    <tr>\n",
       "      <th>2</th>\n",
       "      <td>they presume their audience wo n't sit still f...</td>\n",
       "      <td>1</td>\n",
       "      <td>negative</td>\n",
       "    </tr>\n",
       "    <tr>\n",
       "      <th>3</th>\n",
       "      <td>the entire movie is filled with deja vu moments .</td>\n",
       "      <td>2</td>\n",
       "      <td>neutral</td>\n",
       "    </tr>\n",
       "    <tr>\n",
       "      <th>4</th>\n",
       "      <td>this is a visually stunning rumination on love...</td>\n",
       "      <td>3</td>\n",
       "      <td>positive</td>\n",
       "    </tr>\n",
       "  </tbody>\n",
       "</table>\n",
       "</div>"
      ],
      "text/plain": [
       "                                                text  label     label_text\n",
       "0  a stirring , funny and finally transporting re...      4  very positive\n",
       "1  apparently reassembled from the cutting-room f...      1       negative\n",
       "2  they presume their audience wo n't sit still f...      1       negative\n",
       "3  the entire movie is filled with deja vu moments .      2        neutral\n",
       "4  this is a visually stunning rumination on love...      3       positive"
      ]
     },
     "execution_count": 5,
     "metadata": {},
     "output_type": "execute_result"
    }
   ],
   "source": [
    "data_train.head()"
   ]
  },
  {
   "attachments": {},
   "cell_type": "markdown",
   "metadata": {},
   "source": [
    "| Text Label   |      Label      |\n",
    "|----------|:-------------:|\n",
    "| very negative |  0 |\n",
    "| negative|    1   |\n",
    "| neutral | 2 |\n",
    "| positive | 3 |\n",
    "| very positive | 4 |"
   ]
  },
  {
   "cell_type": "code",
   "execution_count": 7,
   "metadata": {},
   "outputs": [
    {
     "name": "stderr",
     "output_type": "stream",
     "text": [
      "Downloading (…)solve/main/vocab.txt: 100%|██████████| 232k/232k [00:00<00:00, 54.0MB/s]\n",
      "Downloading (…)okenizer_config.json: 100%|██████████| 28.0/28.0 [00:00<00:00, 11.2kB/s]\n",
      "Downloading (…)lve/main/config.json: 100%|██████████| 570/570 [00:00<00:00, 299kB/s]\n"
     ]
    }
   ],
   "source": [
    "#Initializing the tokenizer\n",
    "tokenizer = BertTokenizer.from_pretrained('bert-base-uncased')"
   ]
  },
  {
   "cell_type": "code",
   "execution_count": 8,
   "metadata": {},
   "outputs": [],
   "source": [
    "seq_len = 512 # max length limit tokens of bert"
   ]
  },
  {
   "cell_type": "code",
   "execution_count": 12,
   "metadata": {},
   "outputs": [],
   "source": [
    "def tokenize(dataset):\n",
    "    tokens = tokenizer(data_train['text'].tolist(), max_length = seq_len, truncation=True, padding='max_length', add_special_tokens=True, return_tensors='np')\n",
    "    return tokens"
   ]
  },
  {
   "cell_type": "code",
   "execution_count": 31,
   "metadata": {},
   "outputs": [],
   "source": [
    "train_tokens = tokenize(data_train)\n",
    "valid_tokens = tokenize(data_valid)\n",
    "test_tokens = tokenize(data_test)\n",
    "#Here tokens are seperated as {input_ids, token_id_types, attention_mask} \n",
    "#input_ids and attentions masks would be our features"
   ]
  },
  {
   "cell_type": "code",
   "execution_count": 34,
   "metadata": {},
   "outputs": [
    {
     "name": "stdout",
     "output_type": "stream",
     "text": [
      "[[0. 0. 0. 0. 1.]\n",
      " [0. 1. 0. 0. 0.]\n",
      " [0. 1. 0. 0. 0.]\n",
      " ...\n",
      " [0. 1. 0. 0. 0.]\n",
      " [0. 0. 1. 0. 0.]\n",
      " [0. 0. 0. 0. 1.]]\n"
     ]
    }
   ],
   "source": [
    "NUM_CLASSES = 5\n",
    "\n",
    "#One hot encode since we have more than 2 classes\n",
    "def one_hot_encode(dataset):\n",
    "    num_samples = len(dataset)\n",
    "    labels = dataset['label']\n",
    "    encoding = np.zeros((num_samples, NUM_CLASSES))\n",
    "    \n",
    "    for i in range(num_samples):\n",
    "        label_value = labels[i]\n",
    "        encoding[i][label_value] = 1\n",
    "        \n",
    "    return encoding\n",
    "    \n",
    "y_train = one_hot_encode(data_train)\n",
    "y_valid = one_hot_encode(data_valid)\n",
    "y_test = one_hot_encode(data_test)\n",
    "print(y_train)\n"
   ]
  },
  {
   "cell_type": "code",
   "execution_count": 32,
   "metadata": {},
   "outputs": [],
   "source": [
    "#Saving the preprocessed data\n",
    "\n",
    "with open('./data/preprocessed/features/X_train_ids.npy', 'wb') as f:\n",
    "    np.save(f, train_tokens['input_ids'])\n",
    "    \n",
    "with open('./data/preprocessed/features/X_valid_ids.npy', 'wb') as f:\n",
    "    np.save(f, valid_tokens['input_ids'])\n",
    "    \n",
    "with open('./data/preprocessed/features/X_test_ids.npy', 'wb') as f:\n",
    "    np.save(f, test_tokens['input_ids'])"
   ]
  },
  {
   "cell_type": "code",
   "execution_count": 33,
   "metadata": {},
   "outputs": [],
   "source": [
    "with open('./data/preprocessed/features/X_train_mask.npy', 'wb') as f:\n",
    "    np.save(f, train_tokens['attention_mask'])\n",
    "    \n",
    "with open('./data/preprocessed/features/X_valid_mask.npy', 'wb') as f:\n",
    "    np.save(f, valid_tokens['attention_mask'])\n",
    "    \n",
    "with open('./data/preprocessed/features/X_test_mask.npy', 'wb') as f:\n",
    "    np.save(f, test_tokens['attention_mask'])"
   ]
  },
  {
   "cell_type": "code",
   "execution_count": 29,
   "metadata": {},
   "outputs": [],
   "source": [
    "with open('./data/preprocessed/labels/y_train.npy', 'wb') as f:\n",
    "    np.save(f, y_train)\n",
    "    \n",
    "with open('./data/preprocessed/labels/y_valid.npy', 'wb') as f:\n",
    "    np.save(f, y_valid)\n",
    "    \n",
    "with open('./data/preprocessed/labels/y_test.npy', 'wb') as f:\n",
    "    np.save(f, y_test)"
   ]
  }
 ],
 "metadata": {
  "kernelspec": {
   "display_name": "testenv",
   "language": "python",
   "name": "python3"
  },
  "language_info": {
   "codemirror_mode": {
    "name": "ipython",
    "version": 3
   },
   "file_extension": ".py",
   "mimetype": "text/x-python",
   "name": "python",
   "nbconvert_exporter": "python",
   "pygments_lexer": "ipython3",
   "version": "3.10.9"
  },
  "orig_nbformat": 4,
  "vscode": {
   "interpreter": {
    "hash": "509d82cbc970f284de4fd43a4db806627d357ffd1d21452872af17ba8ffd98fc"
   }
  }
 },
 "nbformat": 4,
 "nbformat_minor": 2
}
